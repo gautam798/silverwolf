{
 "cells": [
  {
   "cell_type": "code",
   "execution_count": 106,
   "id": "3c2d30f0",
   "metadata": {},
   "outputs": [],
   "source": [
    "#importing libraries\n",
    "import pyttsx3\n",
    "import speech_recognition as sr\n",
    "import webbrowser\n",
    "import datetime\n",
    "import pywhatkit\n",
    "import os\n",
    "import yfinance as yf\n",
    "import pyjokes"
   ]
  },
  {
   "cell_type": "code",
   "execution_count": 107,
   "id": "48d1ee3e",
   "metadata": {},
   "outputs": [],
   "source": [
    "#listen to microphone and return the audio as text with google\n",
    "def transform():\n",
    "    r = sr.Recognizer()\n",
    "    with sr.Microphone() as source:\n",
    "        r.pause_threshold = 0.8\n",
    "        said = r.listen(source)\n",
    "        try:\n",
    "            print('I am listening')\n",
    "            q = r.recognize_google(said,language = 'en')\n",
    "            return q\n",
    "        except sr.Unknown.Value.Error:\n",
    "            print(\"I didn't Understand\")\n",
    "            return 'i am waiting'\n",
    "        except sr.RequestError:\n",
    "            print(\"Sorry the service is down\")\n",
    "            return\"I am waiting\"\n",
    "        except:\n",
    "            return \"i am waiting\""
   ]
  },
  {
   "cell_type": "code",
   "execution_count": 108,
   "id": "91ab1694",
   "metadata": {},
   "outputs": [],
   "source": [
    "#uncomment this for testing\n",
    "#transform()\n"
   ]
  },
  {
   "cell_type": "code",
   "execution_count": 109,
   "id": "393734cb",
   "metadata": {},
   "outputs": [],
   "source": [
    "#Greeting message\n",
    "def speak(message):\n",
    "    engine = pyttsx3.init()\n",
    "    engine.say(message)\n",
    "    engine.runAndWait()"
   ]
  },
  {
   "cell_type": "code",
   "execution_count": 110,
   "id": "90649e38",
   "metadata": {},
   "outputs": [],
   "source": [
    "#speak('Hello gautam')"
   ]
  },
  {
   "cell_type": "code",
   "execution_count": 111,
   "id": "12f66639",
   "metadata": {},
   "outputs": [],
   "source": [
    "#info purpose\n",
    "#engine = pyttsx3.init()\n",
    "#for voice in engine.getProperty('voices'):\n",
    "#    print(voice)"
   ]
  },
  {
   "cell_type": "code",
   "execution_count": 112,
   "id": "a55c38e8",
   "metadata": {},
   "outputs": [],
   "source": [
    "#if you need to change property or language use this\n",
    "id='hindi'\n",
    "engine.setProperty('voice',id)\n",
    "engine.say('hey gautam ')\n",
    "engine.runAndWait()\n"
   ]
  },
  {
   "cell_type": "code",
   "execution_count": null,
   "id": "50fc1179",
   "metadata": {},
   "outputs": [],
   "source": []
  },
  {
   "cell_type": "code",
   "execution_count": 113,
   "id": "33872192",
   "metadata": {},
   "outputs": [],
   "source": [
    "#engine.say('hey tell your name')\n",
    "#engine.runAndWait()"
   ]
  },
  {
   "cell_type": "code",
   "execution_count": 114,
   "id": "a4fcd042",
   "metadata": {},
   "outputs": [],
   "source": [
    "#return the week day name\n",
    "def query_day():\n",
    "    day = datetime.date.today()\n",
    "#    print(day)\n",
    "    weekday = day.weekday()\n",
    "#    print(weekday)\n",
    "    mapping = {\n",
    "        0:'Monday',1:'Tuesday',2:'Wednesday',3:'Thursday',4:'Friday',5:'Saturday',6:'Sunday'\n",
    "    }\n",
    "    try:\n",
    "        speak(f'Today is {mapping[weekday]}')\n",
    "    except:\n",
    "        pass"
   ]
  },
  {
   "cell_type": "code",
   "execution_count": 115,
   "id": "99623dc9",
   "metadata": {},
   "outputs": [],
   "source": [
    "#query_day()"
   ]
  },
  {
   "cell_type": "code",
   "execution_count": 116,
   "id": "d7668be2",
   "metadata": {},
   "outputs": [],
   "source": [
    "#returns time\n",
    "def query_time():\n",
    "    time = datetime.datetime.now().strftime(\"%I:%M:%S\")\n",
    "    print(time)\n",
    "    speak(f\"Its {time[1]} o' clock and {time[3:5]} minutes\")\n"
   ]
  },
  {
   "cell_type": "code",
   "execution_count": 117,
   "id": "5ad7792f",
   "metadata": {},
   "outputs": [],
   "source": [
    "#testing\n",
    "#query_time()"
   ]
  },
  {
   "cell_type": "code",
   "execution_count": 118,
   "id": "d81b0a9a",
   "metadata": {},
   "outputs": [],
   "source": [
    "#greeting msg\n",
    "def whatsup():\n",
    "    speak(''''Hi My name is Silver Wolf. .  . I am your personal assistant. . .\n",
    "    How may i help you.''')"
   ]
  },
  {
   "cell_type": "code",
   "execution_count": null,
   "id": "751d4560",
   "metadata": {},
   "outputs": [],
   "source": []
  },
  {
   "cell_type": "code",
   "execution_count": 119,
   "id": "74b7dd8f",
   "metadata": {},
   "outputs": [],
   "source": [
    "#heart of our assistant. Takes query and return answer\n",
    "def querying():\n",
    "    whatsup()\n",
    "    start = True\n",
    "    cg = 'https://meet.google.com/doy-ujqr-eic'\n",
    "    dlca='https://meet.google.com/ciu-pxkp-fgc'\n",
    "    dsgt='https://meet.google.com/bpv-qxpt-btf'\n",
    "    java='https://meet.google.com/bzq-frth-rwm'\n",
    "    maths='https://meet.google.com/fzp-tnth-eck'\n",
    "    while(start):\n",
    "#uncomment next line if you want to reognize your speech and comment the line after that \n",
    "        q = transform().lower()\n",
    "#       q='start dlca'\n",
    "        if 'start youtube' in q:\n",
    "            speak('starting youtube.Wait for sometime')\n",
    "            webbrowser.open('http://www.youtube.com')\n",
    "            continue\n",
    "        \n",
    "        elif 'start dlca' in q:\n",
    "            speak('welcome to DLCA ')\n",
    "            webbrowser.open(dlca)\n",
    "            continue\n",
    "         \n",
    "        elif 'start dsgt' in q:\n",
    "            speak('welcome to DSGT ')\n",
    "            webbrowser.open(dsgt)\n",
    "            continue\n",
    "        \n",
    "        elif 'start maths' in q:\n",
    "            speak('welcome to Maths ')\n",
    "            webbrowser.open(maths)\n",
    "            continue\n",
    "        \n",
    "        elif 'start java' in q:\n",
    "            speak('welcome to java ')\n",
    "            webbrowser.open(java)\n",
    "            continue\n",
    "        \n",
    "        elif 'start cg' in q:\n",
    "            speak('welcome to CG ')\n",
    "            webbrowser.open(cg)\n",
    "            continue\n",
    "        \n",
    "        elif 'start webbrowser' in q:\n",
    "            speak('opening browser')\n",
    "            webbrowser.open('https://google.com')\n",
    "            continue\n",
    "        \n",
    "        elif 'What day is it' in q:\n",
    "            query_day()\n",
    "            continue\n",
    "        \n",
    "        elif  'what time is it' in q:\n",
    "            query_time()\n",
    "            continue\n",
    "        \n",
    "        elif 'stop' in q:\n",
    "            speak('Good bye ! have a nice day.')\n",
    "            break\n",
    "        \n",
    "        elif 'FROM wikipedia' in q:\n",
    "            speak('Checking wikipedia')\n",
    "            q=q.replace('wikipedia','')\n",
    "            results = wikipedia.summary(q,sentences=2)\n",
    "            speak('found on wikipedia')\n",
    "            speak(result)\n",
    "            continue\n",
    "            \n",
    "        elif 'your name' in q:\n",
    "            speak('my name is Robot 2.0')\n",
    "            continue\n",
    "        \n",
    "        elif 'search web' in q:\n",
    "            pywhatkit.search(q)\n",
    "            speaking('i found something !')\n",
    "            continue\n",
    "        \n",
    "        elif 'play' in q:\n",
    "            speak(f'playing {q}')\n",
    "            pywhatkit.playonyt(q)\n",
    "            continue\n",
    "        \n",
    "        elif 'joke' in q:\n",
    "            speaking(pyjokes.get_joke())\n",
    "            continue\n",
    "        \n",
    "        elif 'stock price'in q:\n",
    "            search = q.split('off')[-1].strip()\n",
    "            lookup = {\n",
    "                'apple':'AAPL',\n",
    "                'amazon':'AMZN',\n",
    "                'google':'GOOGL'\n",
    "            }\n",
    "            try:\n",
    "                stock=lookup[search]\n",
    "                stock = yf.Ticker(stock)\n",
    "                currentprice = stock.info[\"regularMarketPrice\"]\n",
    "                speak(f'Found it, the current price for {search} is {currentprice}')\n",
    "            except:\n",
    "                speak(f\"sorry i didn't found data\")\n",
    "                continue"
   ]
  },
  {
   "cell_type": "code",
   "execution_count": null,
   "id": "d6378aae",
   "metadata": {},
   "outputs": [
    {
     "name": "stderr",
     "output_type": "stream",
     "text": [
      "ALSA lib pcm_dmix.c:1035:(snd_pcm_dmix_open) unable to open slave\n",
      "ALSA lib pcm.c:2660:(snd_pcm_open_noupdate) Unknown PCM cards.pcm.rear\n",
      "ALSA lib pcm.c:2660:(snd_pcm_open_noupdate) Unknown PCM cards.pcm.center_lfe\n",
      "ALSA lib pcm.c:2660:(snd_pcm_open_noupdate) Unknown PCM cards.pcm.side\n",
      "ALSA lib pcm_route.c:877:(find_matching_chmap) Found no matching channel map\n",
      "ALSA lib pcm_oss.c:397:(_snd_pcm_oss_open) Cannot open device /dev/dsp\n",
      "ALSA lib pcm_oss.c:397:(_snd_pcm_oss_open) Cannot open device /dev/dsp\n",
      "ALSA lib pcm_a52.c:835:(_snd_pcm_a52_open) a52 is only for playback\n",
      "ALSA lib confmisc.c:160:(snd_config_get_card) Invalid field card\n",
      "ALSA lib pcm_usb_stream.c:482:(_snd_pcm_usb_stream_open) Invalid card 'card'\n",
      "ALSA lib confmisc.c:160:(snd_config_get_card) Invalid field card\n",
      "ALSA lib pcm_usb_stream.c:482:(_snd_pcm_usb_stream_open) Invalid card 'card'\n",
      "ALSA lib pcm_dmix.c:1035:(snd_pcm_dmix_open) unable to open slave\n"
     ]
    }
   ],
   "source": [
    "#initialise function\n",
    "querying()"
   ]
  },
  {
   "cell_type": "code",
   "execution_count": null,
   "id": "4d5f5fc7",
   "metadata": {},
   "outputs": [],
   "source": []
  }
 ],
 "metadata": {
  "kernelspec": {
   "display_name": "Python 3 (ipykernel)",
   "language": "python",
   "name": "python3"
  },
  "language_info": {
   "codemirror_mode": {
    "name": "ipython",
    "version": 3
   },
   "file_extension": ".py",
   "mimetype": "text/x-python",
   "name": "python",
   "nbconvert_exporter": "python",
   "pygments_lexer": "ipython3",
   "version": "3.9.7"
  }
 },
 "nbformat": 4,
 "nbformat_minor": 5
}
